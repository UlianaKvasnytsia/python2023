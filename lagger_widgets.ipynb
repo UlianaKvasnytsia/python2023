{
 "cells": [
  {
   "cell_type": "markdown",
   "id": "65ebb626-8e1c-4b2f-b7fb-84172619eda2",
   "metadata": {},
   "source": [
    "#### Мета роботи: реалізувати програму для виконання обчислень функцій Лаґерра та їх перетворень"
   ]
  },
  {
   "cell_type": "code",
   "execution_count": 1,
   "id": "ffdf47ac-d6ed-4c4a-a846-1f29b937d59a",
   "metadata": {
    "tags": []
   },
   "outputs": [],
   "source": [
    "import numpy as np\n",
    "import ipywidgets\n",
    "import matplotlib.pyplot as plt"
   ]
  },
  {
   "cell_type": "markdown",
   "id": "7b762265-3c7a-4627-ba65-3cb703d35e97",
   "metadata": {
    "tags": []
   },
   "source": [
    "##### Для обчислення функцій Лаґерра використовують формули:     \n",
    "\\begin{aligned}\n",
    "    l_n(t)=\\frac{2n-1-\\sigma t}{n}l_{n-1}(t)-\\frac{n-1}{n} l_{n-2}(t), \\quad n \\geq 2, \\\\\n",
    "    l_0(t)=\\sqrt{\\sigma} e^{-\\frac{\\beta}{2}t}, \\quad l_1(t)=\\sqrt{\\sigma}(1-\\sigma t) e^{-\\frac{\\beta}{2}t}.\n",
    "\\end{aligned}\n",
    "##### За умовою вважатимемо B=2, o=4 за замовчуванням"
   ]
  },
  {
   "cell_type": "code",
   "execution_count": 2,
   "id": "07e3be34-24c1-462b-92c8-c6f032d50769",
   "metadata": {
    "tags": []
   },
   "outputs": [],
   "source": [
    "def lagger(t,n,b=2,o=4):\n",
    "    l0=np.sqrt(o)*np.exp(-b*t/2)\n",
    "    l1=np.sqrt(o)*(1-o*t)*np.exp(-b*t/2)\n",
    "    if n==0:\n",
    "        return l0\n",
    "    elif n==1:\n",
    "        return l1\n",
    "    else:\n",
    "        for i in range(2,n+1):\n",
    "            l2= (2*i-1-o*t)*l1/i-(i-1)*l0/i\n",
    "            l0,l1=l1,l2\n",
    "        return l2           "
   ]
  },
  {
   "cell_type": "code",
   "execution_count": 3,
   "id": "68910aa4-b388-4d17-be0e-fdf150f8daf3",
   "metadata": {},
   "outputs": [
    {
     "data": {
      "text/plain": [
       "-0.11094613260729669"
      ]
     },
     "execution_count": 3,
     "metadata": {},
     "output_type": "execute_result"
    }
   ],
   "source": [
    "lagger(1,20)"
   ]
  },
  {
   "cell_type": "markdown",
   "id": "a7489759-13f4-4cfb-b550-af7c3e058ab9",
   "metadata": {},
   "source": [
    "#### Далі реалізуємо функцію для табуляції функції Лаґерра на заданому відрізку. Це нам знадобиться потім при реалізації графіків."
   ]
  },
  {
   "cell_type": "code",
   "execution_count": 4,
   "id": "7c86d983-ce1f-4aea-91ea-1d8f6c4348f0",
   "metadata": {
    "tags": []
   },
   "outputs": [],
   "source": [
    "def tabulate_lagger(n, b, o, T, k):\n",
    "    h=T/k\n",
    "    x=[i*h for i in range(k+1)]\n",
    "    y=[lagger(x1,n,b,o) for x1 in x]\n",
    "    return x,y\n",
    "\n",
    "def print_tabulation(x,y):\n",
    "    for i in range(len(x)):\n",
    "        print(round(x[i],5),y[i],sep='\\t')"
   ]
  },
  {
   "cell_type": "code",
   "execution_count": 5,
   "id": "576d6603-22db-40d5-bfa0-077ba53b3419",
   "metadata": {
    "tags": []
   },
   "outputs": [
    {
     "name": "stdout",
     "output_type": "stream",
     "text": [
      "0.0\t1.9999999999999998\n",
      "0.1\t-0.7199603933429105\n",
      "0.2\t-0.7641813065507715\n",
      "0.3\t0.02330791918637709\n",
      "0.4\t0.726198401745203\n",
      "0.5\t0.9974059737496637\n",
      "0.6\t0.812360642831173\n",
      "0.7\t0.30467967036618093\n",
      "0.8\t-0.3384117298915382\n",
      "0.9\t-0.9381832335195615\n",
      "1.0\t-1.3570663829879872\n",
      "1.1\t-1.51161084951959\n",
      "1.2\t-1.3728750240045944\n",
      "1.3\t-0.9594041604635353\n",
      "1.4\t-0.3264258153428452\n",
      "1.5\t0.44626032029685936\n",
      "1.6\t1.2660819017103342\n",
      "1.7\t2.0381991360213045\n",
      "1.8\t2.6741879580862298\n",
      "1.9\t3.098693359575141\n",
      "2.0\t3.254061699155888\n",
      "2.1\t3.1030999686892775\n",
      "2.2\t2.630191911912317\n",
      "2.3\t1.8410414014013066\n",
      "2.4\t0.7613248042313814\n",
      "2.5\t-0.5654744349646362\n",
      "2.6\t-2.0807970180884503\n",
      "2.7\t-3.7140815857331826\n",
      "2.8\t-5.385990208349137\n",
      "2.9\t-7.0116279673766435\n",
      "3.0\t-8.503631277231161\n",
      "3.1\t-9.775029620427063\n",
      "3.2\t-10.741812403296521\n",
      "3.3\t-11.32515630435539\n",
      "3.4\t-11.453288660298062\n",
      "3.5\t-11.06297918000762\n",
      "3.6\t-10.100665783998124\n",
      "3.7\t-8.523230903596227\n",
      "3.8\t-6.298452453709581\n",
      "3.9\t-3.405159247078064\n",
      "4.0\t0.16687582098624532\n",
      "4.1\t4.417269599757404\n",
      "4.2\t9.335553788645857\n",
      "4.3\t14.901856170557139\n",
      "4.4\t21.087704258987092\n",
      "4.5\t27.856919719296403\n",
      "4.6\t35.16657445082173\n",
      "4.7\t42.96798203611469\n",
      "4.8\t51.20770124455079\n",
      "4.9\t59.82853131162298\n",
      "5.0\t68.77048171577698\n",
      "5.1\t77.97170207401723\n",
      "5.2\t87.36936052470226\n",
      "5.3\t96.90046152420595\n",
      "5.4\t106.50259632879626\n",
      "5.5\t116.11462154964413\n",
      "5.6\t125.67726305104055\n",
      "5.7\t135.1336441101226\n",
      "5.8\t144.42973817634078\n",
      "5.9\t153.51474777027136\n",
      "6.0\t162.3414120568452\n",
      "6.1\t170.86624643238082\n",
      "6.2\t179.0497180940164\n",
      "6.3\t186.85636203099313\n",
      "6.4\t194.25484220667414\n",
      "6.5\t201.21796290492918\n",
      "6.6\t207.72263531075396\n",
      "6.7\t213.74980439818842\n",
      "6.8\t219.28434112323686\n",
      "6.9\t224.31490477904973\n",
      "7.0\t228.83378017744135\n",
      "7.1\t232.8366940860924\n",
      "7.2\t236.32261508456003\n",
      "7.3\t239.29354071341055\n",
      "7.4\t241.75427548722413\n",
      "7.5\t243.71220303068176\n",
      "7.6\t245.17705528325277\n",
      "7.7\t246.16068140704945\n",
      "7.8\t246.67681872829627\n",
      "7.9\t246.74086774888733\n",
      "8.0\t246.3696729833059\n",
      "8.1\t245.58131110980457\n",
      "8.2\t244.39488767466042\n",
      "8.3\t242.8303433555634\n",
      "8.4\t240.90827057536822\n",
      "8.5\t238.649741060807\n",
      "8.6\t236.07614476228207\n",
      "8.7\t233.20904039025814\n",
      "8.8\t230.0700176805613\n",
      "8.9\t226.68057137442486\n",
      "9.0\t223.06198678863245\n",
      "9.1\t219.2352367557146\n",
      "9.2\t215.22088963293558\n",
      "9.3\t211.0390280107779\n",
      "9.4\t206.7091776957837\n",
      "9.5\t202.25024649795412\n",
      "9.6\t197.68047231841882\n",
      "9.7\t193.01738000780935\n",
      "9.8\t188.27774644873423\n",
      "9.9\t183.47757330607362\n",
      "10.0\t178.63206688559174\n"
     ]
    }
   ],
   "source": [
    "x,y=tabulate_lagger(6,2,4,10,100)\n",
    "print_tabulation(x,y)"
   ]
  },
  {
   "cell_type": "markdown",
   "id": "c17f3bd3-5d9f-4f6a-acbc-5b981f6ca76e",
   "metadata": {},
   "source": [
    "#### Проведемо обчислювальний експеримент: для N=20 знайти точку T>0, щоб  $|l_n(T)| < eps = 10^{-3} $ для усіх $n \\in [0, N]$"
   ]
  },
  {
   "cell_type": "code",
   "execution_count": 6,
   "id": "c00c39d6-58de-4d42-8ae7-5a70fab0204f",
   "metadata": {
    "tags": []
   },
   "outputs": [],
   "source": [
    "def experiment(T,b,o,eps=1e-3,N=20):\n",
    "    t=0\n",
    "    h=1/10\n",
    "    while t<=T:\n",
    "        flag=True\n",
    "        for n in range(1,N+1):\n",
    "            if abs(lagger(t,n,b,o))>eps:\n",
    "                flag=False\n",
    "                break     \n",
    "        if flag:\n",
    "            return t\n",
    "        else:\n",
    "            t+=h"
   ]
  },
  {
   "cell_type": "code",
   "execution_count": 7,
   "id": "d086c30d-ca1e-48a7-a8f0-359c60696bbd",
   "metadata": {
    "tags": []
   },
   "outputs": [
    {
     "name": "stdout",
     "output_type": "stream",
     "text": [
      "79.09999999999978\n"
     ]
    }
   ],
   "source": [
    "r=experiment(100,2,4)\n",
    "print(r)"
   ]
  },
  {
   "cell_type": "markdown",
   "id": "bd136c8f-f878-4200-a984-360439e2a251",
   "metadata": {},
   "source": [
    "##### Реалізуємо функцію для наближеного обчислення інтегралів, використовуючи метод прямокутників, за формулою: $$f_k = \\int_{0}^{T} f(t)l_k(t)e^{-ot} \\, dt ,\\    k\\in[0, N]$$"
   ]
  },
  {
   "cell_type": "code",
   "execution_count": 8,
   "id": "4ec989d0-bbae-4afd-8241-ea3d5b75c202",
   "metadata": {
    "tags": []
   },
   "outputs": [],
   "source": [
    "def integral(f,a,b,k):\n",
    "    in1=0\n",
    "    h=(b-a)/k\n",
    "    for i in range(k):\n",
    "        x=h*i+h/2\n",
    "        in1+=f(x)\n",
    "    return in1*h\n",
    "\n",
    "def integral_main(f, a,b,eps=0.00001):\n",
    "    k=10\n",
    "    prev=integral(f,a,b,k)\n",
    "    k*=2\n",
    "    cur=integral(f,a,b,k)\n",
    "    while abs(prev-cur)>eps:\n",
    "        k*=2\n",
    "        prev,cur=cur,integral(f,a,b,k)\n",
    "    return cur"
   ]
  },
  {
   "cell_type": "markdown",
   "id": "4a703821-81a2-499c-9ca0-940048f0b788",
   "metadata": {},
   "source": [
    "##### Нижче допоміжна функція, яка рахує значення інтегралу в точці"
   ]
  },
  {
   "cell_type": "code",
   "execution_count": 9,
   "id": "ac68b63f-27e0-49c4-b12b-5757b3fca283",
   "metadata": {
    "tags": []
   },
   "outputs": [],
   "source": [
    "def func(t):\n",
    "    return lagger(t,2,2,4)*lagger(t,3,2,4)*np.exp(-2*t)"
   ]
  },
  {
   "cell_type": "code",
   "execution_count": 10,
   "id": "bc90289b-4ff7-4287-b67a-d19c3b2cd51c",
   "metadata": {
    "tags": []
   },
   "outputs": [
    {
     "name": "stdout",
     "output_type": "stream",
     "text": [
      "-1.4901121472831865e-06\n"
     ]
    }
   ],
   "source": [
    "print(integral_main(func,0,100))"
   ]
  },
  {
   "cell_type": "markdown",
   "id": "c7af497f-fb20-4b3a-84d8-5eec29acaa80",
   "metadata": {},
   "source": [
    "##### Для заданої функції виконати Перетворення Лаґерра, а саме знайти коефіцієнти $f^N := (f_0, f_1,..., f_N)^T$ при N=10\n",
    "\n",
    "\\begin{cases}\n",
    "    cos(t-\\pi/4)+1-sin(t+\\pi/6),\\ &t\\in [0,2\\pi] \\\\\n",
    "    0,\\ &t>=2\\pi \\\\\n",
    "\\end{cases}"
   ]
  },
  {
   "cell_type": "code",
   "execution_count": 11,
   "id": "c4e0e476-1205-42f5-9e8f-242588e4c08b",
   "metadata": {
    "tags": []
   },
   "outputs": [],
   "source": [
    "def f_cos(t):\n",
    "    if t>=2*np.pi:\n",
    "        return 0\n",
    "    else:\n",
    "        return np.cos(t-np.pi/4)+1-np.sin(t+np.pi/6)\n"
   ]
  },
  {
   "cell_type": "markdown",
   "id": "6e801d87-715b-4ea6-b7d5-ae6a77c8b017",
   "metadata": {},
   "source": [
    "#### Перетворення Лаґерра"
   ]
  },
  {
   "cell_type": "code",
   "execution_count": 12,
   "id": "f08f025d-6509-4aea-b363-4a9c6cbe99d5",
   "metadata": {
    "tags": []
   },
   "outputs": [],
   "source": [
    "def lagger_transformation(f,T,N=10):\n",
    "    fk=[]\n",
    "    \n",
    "    for i in range(N+1):\n",
    "        def int_func(t):\n",
    "            return f(t)*lagger(t,i,2,4)*np.exp(-2*t)\n",
    "        fk.append(integral_main(int_func,0,T))\n",
    "    return fk    "
   ]
  },
  {
   "cell_type": "code",
   "execution_count": 13,
   "id": "23a8af9d-70be-404b-9cfa-eb7af23e0742",
   "metadata": {
    "tags": []
   },
   "outputs": [
    {
     "name": "stdout",
     "output_type": "stream",
     "text": [
      "[0.7591458311093235, -0.18601182936288674, 0.04109031538239029, -0.018732421028574066, 0.012394863182049813, -0.005453122986364942, 0.0008142670798417326, 0.0008139930946952234, -0.0008291950825886384, 0.00022703627424913006, 0.0003420671473524219]\n"
     ]
    }
   ],
   "source": [
    "h=lagger_transformation(f_cos,r)\n",
    "print(h)"
   ]
  },
  {
   "cell_type": "markdown",
   "id": "8533b890-b7ba-4b7d-8f01-a49c95fb7457",
   "metadata": {
    "tags": []
   },
   "source": [
    "#### Отримуємо вектор коефіцієнтів h, для якого реалізуємо функцію оберненого перетворення Лаґерра"
   ]
  },
  {
   "cell_type": "code",
   "execution_count": 14,
   "id": "8c20d024-cc03-459f-b5db-a3e1cb30e620",
   "metadata": {
    "tags": []
   },
   "outputs": [],
   "source": [
    "def reverse_lagger(h,x):\n",
    "    sum=0\n",
    "    for i in range(len(h)):\n",
    "        sum+=h[i]*lagger(x,i,2,4)\n",
    "    return sum"
   ]
  },
  {
   "cell_type": "markdown",
   "id": "57711a51-52b3-4ab4-ad28-63d8e4b617ba",
   "metadata": {},
   "source": [
    "#### Побудуємо графіки функцій Лаґерра"
   ]
  },
  {
   "cell_type": "code",
   "execution_count": 15,
   "id": "d2131358-1d1a-4f2e-a346-2013c43f48f1",
   "metadata": {
    "tags": []
   },
   "outputs": [],
   "source": [
    "def plot_lagger(T, N, b=2, o=4, k=100):\n",
    "    fig = plt.figure(figsize=(10, 10))\n",
    "    ax = fig.gca()\n",
    "    for n in range(N+1):\n",
    "        x, y = tabulate_lagger(n, b, o, T, k)\n",
    "        ax.plot(x, y, label=f\"n={n}\", linewidth=2.0, alpha=0.7)\n",
    "    \n",
    "    ax.set_xlabel(\"t\")\n",
    "    ax.set_ylabel(\"l(t)\")\n",
    "    ax.set_title(\"Lagger polynomials\")\n",
    "    fig.legend(loc='lower center', ncol=5)\n",
    "    plt.show()"
   ]
  },
  {
   "cell_type": "code",
   "execution_count": 16,
   "id": "133dccf1-bcbc-41f7-b5a4-897d3a0fe508",
   "metadata": {
    "tags": []
   },
   "outputs": [
    {
     "data": {
      "application/vnd.jupyter.widget-view+json": {
       "model_id": "e9f9d92fac4d4758adad2b51179330be",
       "version_major": 2,
       "version_minor": 0
      },
      "text/plain": [
       "interactive(children=(FloatSlider(value=1.0, description='T', max=30.0, min=0.1), IntSlider(value=5, descripti…"
      ]
     },
     "metadata": {},
     "output_type": "display_data"
    }
   ],
   "source": [
    "s0=ipywidgets.IntSlider(value=5, min=1,max=30,step=1,description=\"N\")\n",
    "s01=ipywidgets.FloatSlider(value=1, min=0.1,max=30,step=0.1,description=\"T\")\n",
    "w0=ipywidgets.interactive(plot_lagger, T=s01, N=s0, b=ipywidgets.fixed(2),o=ipywidgets.fixed(4),k=ipywidgets.fixed(100))\n",
    "display(w0)"
   ]
  },
  {
   "cell_type": "markdown",
   "id": "a90ccb2f-86cf-495b-a649-c3ec67db7a5e",
   "metadata": {},
   "source": [
    "#### Для раніше заданої функції виконаємо пряме та обернене перетворення Лаґерра і побудуємо графік функцій. Також дослідимо точність перетворення залежно від значення N"
   ]
  },
  {
   "cell_type": "code",
   "execution_count": 17,
   "id": "58e6b0de-5a06-498d-8704-5149b5369dda",
   "metadata": {
    "tags": []
   },
   "outputs": [
    {
     "name": "stdout",
     "output_type": "stream",
     "text": [
      "0.7693088735788127 \t 0.7694580608437979\n"
     ]
    }
   ],
   "source": [
    "print(f_cos(2),'\\t',reverse_lagger(h,2))"
   ]
  },
  {
   "cell_type": "code",
   "execution_count": 18,
   "id": "603d6ba9-5650-40e1-b1b8-27bb9201b4b6",
   "metadata": {
    "tags": []
   },
   "outputs": [],
   "source": [
    "def plot_f_cos(a,b,N):\n",
    "    h=lagger_transformation(f_cos,r,N)\n",
    "    x=np.linspace(a,b,100)\n",
    "    y=[f_cos(i) for i in x]\n",
    "    z=[reverse_lagger(h,i) for i in x]\n",
    "    \n",
    "    plt.figure(figsize=(10, 10))\n",
    "    plt.plot(x,y,x,z)\n",
    "    plt.show()"
   ]
  },
  {
   "cell_type": "code",
   "execution_count": 19,
   "id": "2f101969-638b-4d6e-9614-174a9b983304",
   "metadata": {
    "tags": []
   },
   "outputs": [
    {
     "data": {
      "application/vnd.jupyter.widget-view+json": {
       "model_id": "7eec82392c344366859642627a63605f",
       "version_major": 2,
       "version_minor": 0
      },
      "text/plain": [
       "interactive(children=(IntSlider(value=1, description='n', max=20, min=1), Output()), _dom_classes=('widget-int…"
      ]
     },
     "metadata": {},
     "output_type": "display_data"
    }
   ],
   "source": [
    "s=ipywidgets.IntSlider(value=1, min=1,max=20,step=1,description=\"n\")\n",
    "w1=ipywidgets.interactive(plot_f_cos, a=ipywidgets.fixed(1),b=ipywidgets.fixed(6),N=s)\n",
    "display(w1)"
   ]
  },
  {
   "cell_type": "markdown",
   "id": "52d9eed7-8cee-4af5-87cd-3f23fe914090",
   "metadata": {},
   "source": [
    "##### Висновок: при виконанні даного завдання мені вдалось реалізувати функції для обчислення функцій, прямого та оберненого перетворення Лаґерра. Важливою складовою роботи була взаємодія з matplotlib та ipywidgets Також мені вдалось оцінити зручність роботи у форматі Notebook і ознайомитись із онлайн редактором LaTeX."
   ]
  }
 ],
 "metadata": {
  "kernelspec": {
   "display_name": "Python 3 (ipykernel)",
   "language": "python",
   "name": "python3"
  },
  "language_info": {
   "codemirror_mode": {
    "name": "ipython",
    "version": 3
   },
   "file_extension": ".py",
   "mimetype": "text/x-python",
   "name": "python",
   "nbconvert_exporter": "python",
   "pygments_lexer": "ipython3",
   "version": "3.11.4"
  }
 },
 "nbformat": 4,
 "nbformat_minor": 5
}
