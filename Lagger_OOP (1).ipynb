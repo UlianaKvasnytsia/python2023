{
 "cells": [
  {
   "cell_type": "code",
   "execution_count": 57,
   "id": "abae1944-d56e-4a4b-bc9c-17cb6db55278",
   "metadata": {
    "tags": []
   },
   "outputs": [],
   "source": [
    "import numpy as np\n",
    "import unittest\n",
    "import matplotlib.pyplot as plt"
   ]
  },
  {
   "cell_type": "code",
   "execution_count": 91,
   "id": "4e88568a-db60-490f-a87c-a4d28d361c8b",
   "metadata": {
    "tags": []
   },
   "outputs": [],
   "source": [
    "class Lagger:\n",
    "    def __init__(self, b=2, o=4):\n",
    "        self.b = b\n",
    "        self.o = o\n",
    "\n",
    "    def __call__(self, t, n):\n",
    "        l0 = np.sqrt(self.o) * np.exp(-self.b * t / 2)\n",
    "        l1 = np.sqrt(self.o) * (1 - self.o * t) * np.exp(-self.b * t / 2)\n",
    "        if n == 0:\n",
    "            return l0\n",
    "        elif n == 1:\n",
    "            return l1\n",
    "        else:\n",
    "            for i in range(2, n + 1):\n",
    "                l2 = (2 * i - 1 - self.o * t) * l1 / i - (i - 1) * l0 / i\n",
    "                l0, l1 = l1, l2\n",
    "            return l2\n",
    "        \n",
    "    def tabulate_lagger(self, n, T, k):\n",
    "        h = T / k\n",
    "        x = [i*h for i in range(k+1)]\n",
    "        y = [self(x1,n) for x1 in x]\n",
    "        return x, y\n",
    "\n",
    "    @staticmethod\n",
    "    def print_tabulation(x, y):\n",
    "        for i in range(len(x)):\n",
    "            print(round(x[i], 5), y[i], sep='\\t')\n",
    "            \n",
    "    def experiment(self, T, eps=1e-3, N=20):\n",
    "        t = 0\n",
    "        h = 1/10\n",
    "        while t <= T:\n",
    "            flag = True\n",
    "            for n in range(1, N + 1):\n",
    "                if abs(self(t, n)) > eps:\n",
    "                    flag = False\n",
    "                    break\n",
    "            if flag:\n",
    "                return t\n",
    "            else:\n",
    "                t += h"
   ]
  },
  {
   "cell_type": "code",
   "execution_count": 92,
   "id": "d0524dfd-e727-4760-9c9e-a4ddc031cfd6",
   "metadata": {
    "tags": []
   },
   "outputs": [],
   "source": [
    "class Integral:\n",
    "    def __init__(self, func, a, b):\n",
    "        self.func=func\n",
    "        self.a=a\n",
    "        self.b=b  \n",
    "   \n",
    "    def integral(self, k):\n",
    "        in1 = 0\n",
    "        h = (self.b - self.a) / k\n",
    "        for i in range(k):\n",
    "            x = h * i + h / 2\n",
    "            in1 += self.func(x)\n",
    "        return in1 * h\n",
    "\n",
    "    def integral_main(self, eps=0.00001):\n",
    "        k = 10\n",
    "        prev = self.integral(k)\n",
    "        k *= 2\n",
    "        cur = self.integral(k)\n",
    "        while abs(prev - cur) > eps:\n",
    "            k *= 2\n",
    "            prev, cur = cur, self.integral(k)\n",
    "        return cur"
   ]
  },
  {
   "cell_type": "code",
   "execution_count": 94,
   "id": "fa7bbaeb-0ae3-4201-a2f9-13798b889e53",
   "metadata": {
    "tags": []
   },
   "outputs": [],
   "source": [
    "class Transformation:\n",
    "    def __init__(self, func, T, N=10):\n",
    "        self.func=func\n",
    "        self.T=T\n",
    "        self.N=N\n",
    "        self.lag=Lagger(2,4)\n",
    "    \n",
    "    def lagger_transformation(self):\n",
    "        fk=[]\n",
    "        for i in range(self.N+1):\n",
    "            def int_func(t):\n",
    "                return self.func(t)*self.lag(t,i)*np.exp(-2*t)\n",
    "            integ=Integral(int_func,0,self.T)\n",
    "            fk.append(integ.integral_main())\n",
    "        return fk \n",
    "    \n",
    "    @staticmethod\n",
    "    def reverse_lagger(transform_res,x):\n",
    "        sum=0\n",
    "        lag=Lagger(2,4)\n",
    "        for i in range(len(transform_res)):\n",
    "            sum+=transform_res[i]*lag(x,i)\n",
    "        return sum"
   ]
  },
  {
   "cell_type": "code",
   "execution_count": 88,
   "id": "2908f1ea",
   "metadata": {
    "tags": []
   },
   "outputs": [
    {
     "data": {
      "text/plain": [
       "3.463236074526919"
      ]
     },
     "execution_count": 88,
     "metadata": {},
     "output_type": "execute_result"
    }
   ],
   "source": [
    "Lag=Lagger(2,4)\n",
    "Lag(3,30)"
   ]
  },
  {
   "cell_type": "code",
   "execution_count": 32,
   "id": "17702e39",
   "metadata": {
    "tags": []
   },
   "outputs": [
    {
     "name": "stdout",
     "output_type": "stream",
     "text": [
      "0.0\t1.9999999999999998\n",
      "1.0\t-1.3570663829879872\n",
      "2.0\t3.254061699155888\n",
      "3.0\t-8.503631277231161\n",
      "4.0\t0.16687582098624532\n",
      "5.0\t68.77048171577698\n",
      "6.0\t162.3414120568452\n",
      "7.0\t228.83378017744135\n",
      "8.0\t246.3696729833059\n",
      "9.0\t223.06198678863245\n",
      "10.0\t178.63206688559174\n"
     ]
    }
   ],
   "source": [
    "x_vals, y_vals = Lag.tabulate_lagger(n=6, T=10, k=10)\n",
    "Lagger.print_tabulation(x_vals, y_vals)"
   ]
  },
  {
   "cell_type": "code",
   "execution_count": 95,
   "id": "77b2c036",
   "metadata": {
    "tags": []
   },
   "outputs": [
    {
     "name": "stdout",
     "output_type": "stream",
     "text": [
      "79.09999999999978\n"
     ]
    }
   ],
   "source": [
    "exp=Lag.experiment(100)\n",
    "print(exp)"
   ]
  },
  {
   "cell_type": "code",
   "execution_count": 34,
   "id": "632e89e3",
   "metadata": {
    "tags": []
   },
   "outputs": [],
   "source": [
    "def func(t):\n",
    "    return Lag(t,2)*Lag(t,3)*np.exp(-2*t)"
   ]
  },
  {
   "cell_type": "code",
   "execution_count": 71,
   "id": "879d7bd1-36c0-4940-8511-8ce512ad3cc4",
   "metadata": {
    "tags": []
   },
   "outputs": [
    {
     "name": "stdout",
     "output_type": "stream",
     "text": [
      "-1.2612314372569622e-06\n"
     ]
    }
   ],
   "source": [
    "integral_res=Integral(func,4,27)\n",
    "print(integral_res.integral_main())"
   ]
  },
  {
   "cell_type": "code",
   "execution_count": 39,
   "id": "9009905f-7156-4277-8398-f6cb992dd19f",
   "metadata": {
    "tags": []
   },
   "outputs": [],
   "source": [
    "def f_cos(t):\n",
    "    if t>=2*np.pi:\n",
    "        return 0\n",
    "    else:\n",
    "        return np.cos(t-np.pi/4)+1-np.sin(t+np.pi/6)"
   ]
  },
  {
   "cell_type": "code",
   "execution_count": 41,
   "id": "a10388db-ec16-4400-828b-41270bbe1dbf",
   "metadata": {
    "tags": []
   },
   "outputs": [
    {
     "name": "stdout",
     "output_type": "stream",
     "text": [
      "[0.7591458311093235, -0.18601182936288674, 0.04109031538239029, -0.018732421028574066, 0.012394863182049813, -0.005453122986364942, 0.0008142670798417326, 0.0008139930946952234, -0.0008291950825886384, 0.00022703627424913006, 0.0003420671473524219]\n"
     ]
    }
   ],
   "source": [
    "transform_val=Transformation(f_cos,exp)\n",
    "transform_res=transform_val.lagger_transformation()\n",
    "print(transform_res)"
   ]
  },
  {
   "cell_type": "code",
   "execution_count": 67,
   "id": "2bfe8c04-7429-4e7c-b9aa-3821d256f74a",
   "metadata": {
    "tags": []
   },
   "outputs": [
    {
     "name": "stdout",
     "output_type": "stream",
     "text": [
      "1.2163453848995567\n"
     ]
    }
   ],
   "source": [
    "reverse_res=Transformation.reverse_lagger(transform_res,5)\n",
    "print(reverse_res)"
   ]
  },
  {
   "cell_type": "code",
   "execution_count": 89,
   "id": "4a1b4d08-3a78-4d56-860c-f81d42632ea4",
   "metadata": {
    "tags": []
   },
   "outputs": [],
   "source": [
    "class TestLagger(unittest.TestCase):\n",
    "    \n",
    "    def testCall(self):\n",
    "        Lag=Lagger(2,4)\n",
    "        self.assertEqual(Lag(1,20),-0.11094613260729669)\n",
    "        self.assertEqual(Lag(2,20), 1.7779257824923866)\n",
    "        self.assertEqual(Lag(3,30), 3.463236074526919)\n",
    "    \n",
    "    def testExperiment(self):\n",
    "        Lag=Lagger(2,4)\n",
    "        self.assertEqual(Lag.experiment(100),79.09999999999978)\n",
    "        self.assertEqual(Lag.experiment(10),None)\n",
    "        self.assertEqual(Lag.experiment(90),79.09999999999978)\n",
    "    \n",
    "    def testIntegral(self):\n",
    "        integral_res=Integral(func,0,100)\n",
    "        self.assertEqual(integral_res.integral_main(),-1.4901121472831865e-06)\n",
    "        integral_res=Integral(func,0,10)\n",
    "        self.assertEqual(integral_res.integral_main(),-9.536431577891995e-07)\n",
    "        integral_res=Integral(func,4,27)\n",
    "        self.assertEqual(integral_res.integral_main(),-1.2612314372569622e-06)\n",
    "    \n",
    "    def testTransform(self):\n",
    "        exp=79.09999999999978\n",
    "        transform_val=Transformation(f_cos,exp)\n",
    "        self.assertEqual(transform_val.lagger_transformation(),[0.7591458311093235, -0.18601182936288674, 0.04109031538239029, -0.018732421028574066, 0.012394863182049813, -0.005453122986364942, 0.0008142670798417326, 0.0008139930946952234, -0.0008291950825886384, 0.00022703627424913006, 0.0003420671473524219])\n",
    "    \n",
    "    def testReverse(self):\n",
    "        self.assertEqual(Transformation.reverse_lagger(transform_res,10),-0.14863486648633106)\n",
    "        self.assertEqual(Transformation.reverse_lagger(transform_res,9),-0.7464518658693642)\n",
    "        self.assertEqual(Transformation.reverse_lagger(transform_res,5),1.2163453848995567)"
   ]
  },
  {
   "cell_type": "code",
   "execution_count": 90,
   "id": "820accbd-6b0d-406f-b910-2ff0c4ff4b69",
   "metadata": {
    "tags": []
   },
   "outputs": [
    {
     "name": "stderr",
     "output_type": "stream",
     "text": [
      ".....\n",
      "----------------------------------------------------------------------\n",
      "Ran 5 tests in 107.114s\n",
      "\n",
      "OK\n"
     ]
    },
    {
     "data": {
      "text/plain": [
       "<unittest.main.TestProgram at 0x1994a3b1690>"
      ]
     },
     "execution_count": 90,
     "metadata": {},
     "output_type": "execute_result"
    }
   ],
   "source": [
    "unittest.main(argv=[''], exit=False)"
   ]
  },
  {
   "cell_type": "code",
   "execution_count": null,
   "id": "b0eb5b7a-710d-496a-952f-dde99adc25ae",
   "metadata": {},
   "outputs": [],
   "source": []
  }
 ],
 "metadata": {
  "kernelspec": {
   "display_name": "Python 3 (ipykernel)",
   "language": "python",
   "name": "python3"
  },
  "language_info": {
   "codemirror_mode": {
    "name": "ipython",
    "version": 3
   },
   "file_extension": ".py",
   "mimetype": "text/x-python",
   "name": "python",
   "nbconvert_exporter": "python",
   "pygments_lexer": "ipython3",
   "version": "3.11.5"
  }
 },
 "nbformat": 4,
 "nbformat_minor": 5
}
